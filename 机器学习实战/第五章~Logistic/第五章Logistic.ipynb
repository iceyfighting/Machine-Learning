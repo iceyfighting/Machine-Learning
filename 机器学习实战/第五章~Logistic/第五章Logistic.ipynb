{
 "cells": [
  {
   "cell_type": "code",
   "execution_count": 2,
   "metadata": {
    "scrolled": true
   },
   "outputs": [
    {
     "name": "stdout",
     "output_type": "stream",
     "text": [
      "(100, 3)\n",
      "[[0]\n",
      " [1]\n",
      " [0]\n",
      " [0]\n",
      " [0]\n",
      " [1]\n",
      " [0]\n",
      " [1]\n",
      " [0]\n",
      " [0]\n",
      " [1]\n",
      " [0]\n",
      " [1]\n",
      " [0]\n",
      " [1]\n",
      " [1]\n",
      " [1]\n",
      " [1]\n",
      " [1]\n",
      " [1]\n",
      " [1]\n",
      " [1]\n",
      " [0]\n",
      " [1]\n",
      " [1]\n",
      " [0]\n",
      " [0]\n",
      " [1]\n",
      " [1]\n",
      " [0]\n",
      " [1]\n",
      " [1]\n",
      " [0]\n",
      " [1]\n",
      " [1]\n",
      " [0]\n",
      " [0]\n",
      " [0]\n",
      " [0]\n",
      " [0]\n",
      " [1]\n",
      " [1]\n",
      " [0]\n",
      " [1]\n",
      " [1]\n",
      " [0]\n",
      " [1]\n",
      " [1]\n",
      " [0]\n",
      " [0]\n",
      " [0]\n",
      " [0]\n",
      " [0]\n",
      " [0]\n",
      " [1]\n",
      " [1]\n",
      " [0]\n",
      " [1]\n",
      " [0]\n",
      " [1]\n",
      " [1]\n",
      " [1]\n",
      " [0]\n",
      " [0]\n",
      " [0]\n",
      " [1]\n",
      " [1]\n",
      " [0]\n",
      " [0]\n",
      " [0]\n",
      " [0]\n",
      " [1]\n",
      " [0]\n",
      " [1]\n",
      " [0]\n",
      " [0]\n",
      " [1]\n",
      " [1]\n",
      " [1]\n",
      " [1]\n",
      " [0]\n",
      " [1]\n",
      " [0]\n",
      " [1]\n",
      " [1]\n",
      " [1]\n",
      " [1]\n",
      " [0]\n",
      " [1]\n",
      " [1]\n",
      " [1]\n",
      " [0]\n",
      " [0]\n",
      " [1]\n",
      " [1]\n",
      " [1]\n",
      " [0]\n",
      " [1]\n",
      " [0]\n",
      " [0]]\n"
     ]
    }
   ],
   "source": [
    "import numpy as np\n",
    "\n",
    "def loadDataSet():\n",
    "    x = []\n",
    "    y = []\n",
    "    fr = open(r'E:\\Program Files\\Machine Learning\\机器学习实战及配套代码\\machinelearninginaction\\Ch05\\testSet.txt')\n",
    "    for line in fr.readlines():#遍历每一行\n",
    "        line_x = line.strip().split()#去掉每行的换行符并以空格切分\n",
    "        x.append([1.0, float(line_x[0]), float(line_x[1])])#x0=1,\n",
    "        y.append([int(line_x[2])])\n",
    "    return np.mat(x),np.mat(y)#返回矩阵形式\n",
    "\n",
    "x,y = loadDataSet()\n",
    "print(x.shape)   # 100,3\n",
    "print(y)"
   ]
  },
  {
   "cell_type": "code",
   "execution_count": 2,
   "metadata": {},
   "outputs": [
    {
     "name": "stdout",
     "output_type": "stream",
     "text": [
      "[[ 4.12414349]\n",
      " [ 0.48007329]\n",
      " [-0.6168482 ]]\n"
     ]
    }
   ],
   "source": [
    "\n",
    "def sigmoid(x):\n",
    "    return 1.0 / (1 + np.exp(- x))\n",
    "# print(sigmoid(0)) #  输出 0.5 验证通过\n",
    "\n",
    "# 梯度上升优化算法\n",
    "def gradAscent(x, y):\n",
    "    m, n = np.shape(x)#m=100.n=3\n",
    "    alpha = 0.001\n",
    "    maxCycle = 500#最大迭代500次\n",
    "    weights = np.ones((n, 1))  # 3行1列\n",
    "    for k in np.arange(maxCycle):\n",
    "        h = sigmoid(x * weights)\n",
    "        error = y - h\n",
    "        weights = weights + alpha * x.T * error  # 这是推导之后的结果，详细推导过程见上面的链接\n",
    "    return weights\n",
    "\n",
    "\n",
    "x,y = loadDataSet()\n",
    "print(gradAscent(x, y))\n"
   ]
  },
  {
   "cell_type": "code",
   "execution_count": 3,
   "metadata": {
    "scrolled": true
   },
   "outputs": [
    {
     "name": "stdout",
     "output_type": "stream",
     "text": [
      "[[ 4.12414349]\n",
      " [ 0.48007329]\n",
      " [-0.6168482 ]]\n"
     ]
    },
    {
     "data": {
      "image/png": "[encoded data removed]",
      "text/plain": [
       "<matplotlib.figure.Figure at 0x7eb3f98>"
      ]
     },
     "metadata": {},
     "output_type": "display_data"
    }
   ],
   "source": [
    "# 画出决策边界\n",
    "\n",
    "import matplotlib.pyplot as plt\n",
    "\n",
    "def plotBestFit(weights):\n",
    "    x, y = loadDataSet()#文本转化为矩阵\n",
    "    xarr = np.array(x)#创建数组(100行3列),大小和a一样\n",
    "    n = np.shape(x)[0]#n=100\n",
    "    x1 = []; y1 = []\n",
    "    x2 = []; y2 = []\n",
    "    for i in np.arange(n):#样本分类\n",
    "        if int(y[i]) == 1:#判断\n",
    "            x1.append(xarr[i,1]); y1.append(xarr[i,2])\n",
    "        else:\n",
    "            x2.append(xarr[i,1]); y2.append(xarr[i,2])\n",
    "    #开始画图 找出x1和x2之间的关系\n",
    "    fig = plt.figure()\n",
    "    ax = fig.add_subplot(1,1,1)\n",
    "    ax.scatter(x1, y1, s = 30, c = 'r', marker = 's')\n",
    "    ax.scatter(x2, y2, s = 30, c = 'g')\n",
    "    \n",
    "    a = np.arange(-3.0, 3.0, 0.1)#x1\n",
    "    b = (-weights[0] - weights[1] * a) / weights[2]#x2\n",
    "    ax.plot(a, b.T)#b的转置\n",
    "    plt.title('BestFit')\n",
    "    plt.xlabel('x1')\n",
    "    plt.ylabel('x2')\n",
    "    plt.show()\n",
    "\n",
    "x,y = loadDataSet()\n",
    "weights = gradAscent(x, y)\n",
    "print(weights)\n",
    "plotBestFit(weights)"
   ]
  },
  {
   "cell_type": "code",
   "execution_count": 6,
   "metadata": {},
   "outputs": [
    {
     "data": {
      "text/plain": [
       "array([ 1.,  1.,  1.])"
      ]
     },
     "execution_count": 6,
     "metadata": {},
     "output_type": "execute_result"
    }
   ],
   "source": [
    "np.ones(3)"
   ]
  },
  {
   "cell_type": "code",
   "execution_count": 7,
   "metadata": {},
   "outputs": [
    {
     "name": "stdout",
     "output_type": "stream",
     "text": [
      "100 3\n",
      "[[ 1.01702007]\n",
      " [ 0.85914348]\n",
      " [-0.36579921]]\n",
      "100 3\n"
     ]
    },
    {
     "data": {
      "image/png": "[encoded data removed]",
      "text/plain": [
       "<matplotlib.figure.Figure at 0x8d439e8>"
      ]
     },
     "metadata": {},
     "output_type": "display_data"
    }
   ],
   "source": [
    "# 随机梯度上升\n",
    "\n",
    "def randgradAscent(x, y):\n",
    "    m, n = np.shape(x)\n",
    "    print(m, n)\n",
    "    alpha = 0.01#步长\n",
    "    weights = np.ones(n)#一行三列\n",
    "    for i in np.arange(m):#每次只更新一个值\n",
    "        h = sigmoid(np.sum(x[i] * weights))\n",
    "        error = y[i] - h\n",
    "        weights = weights + alpha * error * x[i]#迭代出新的w\n",
    "    return (np.mat(weights)).T\n",
    "\n",
    "x,y = loadDataSet()\n",
    "#输出最佳参数\n",
    "#print(randgradAscent(np.array(x), np.array(y))) \n",
    "\n",
    "weights = randgradAscent(np.array(x), np.array(y))\n",
    "# 画出决策边界\n",
    "plotBestFit(weights)"
   ]
  },
  {
   "cell_type": "code",
   "execution_count": 9,
   "metadata": {},
   "outputs": [
    {
     "name": "stdout",
     "output_type": "stream",
     "text": [
      "[[ 14.41381384]\n",
      " [  1.00077266]\n",
      " [ -1.96064526]]\n"
     ]
    },
    {
     "data": {
      "image/png": "[encoded data removed]",
      "text/plain": [
       "<matplotlib.figure.Figure at 0x8d43550>"
      ]
     },
     "metadata": {},
     "output_type": "display_data"
    }
   ],
   "source": [
    "# 改进的随机梯度上升算法\n",
    "\n",
    "def randgradAscent1(x, y, cycle = 150):\n",
    "    m, n = np.shape(x)\n",
    "    weights = np.ones(n)\n",
    "    for j in np.arange(cycle):\n",
    "        dataindex = np.arange(m)#100\n",
    "        for i in np.arange(m):\n",
    "            alpha = 4 / (1.0 + j + i) + 0.01#步长发生变化，发现步长变化越来越缓慢\n",
    "            randindex = int(np.random.uniform(0, len(dataindex)))#0~100中随机选取一个值\n",
    "            h = sigmoid(np.sum(x[randindex] * weights))\n",
    "            error = y[randindex] - h\n",
    "            weights = weights + alpha * error * x[randindex]\n",
    "            dataindex = dataindex.tolist()#转化为list类型\n",
    "            del(dataindex[randindex])#删除该随机数对应的数据\n",
    "            dataindex = np.array(dataindex)#再创建一个数组\n",
    "    return np.mat(weights).T#将结果转化为矩阵形式\n",
    "    \n",
    "x,y = loadDataSet()\n",
    "#print(randgradAscent1(np.array(x), np.array(y))) \n",
    "\n",
    "weights = randgradAscent1(np.array(x), np.array(y))\n",
    "# 画出决策边界\n",
    "plotBestFit(weights)"
   ]
  },
  {
   "cell_type": "code",
   "execution_count": 10,
   "metadata": {},
   "outputs": [
    {
     "name": "stderr",
     "output_type": "stream",
     "text": [
      "D:\\python software\\lib\\site-packages\\ipykernel_launcher.py:3: RuntimeWarning: overflow encountered in exp\n",
      "  This is separate from the ipykernel package so we can avoid doing imports until\n"
     ]
    },
    {
     "name": "stdout",
     "output_type": "stream",
     "text": [
      "the error rate of this test is: 0.358209\n",
      "the error rate of this test is: 0.402985\n",
      "the error rate of this test is: 0.358209\n",
      "the error rate of this test is: 0.402985\n",
      "the error rate of this test is: 0.313433\n",
      "the error rate of this test is: 0.373134\n",
      "the error rate of this test is: 0.313433\n",
      "the error rate of this test is: 0.328358\n",
      "the error rate of this test is: 0.402985\n",
      "the error rate of this test is: 0.358209\n",
      "after 10 iterations the average error rate is: 0.361194\n"
     ]
    }
   ],
   "source": [
    "#该函数以特征向量和回归系数作为输入来计算对应的sigmoid值\n",
    "def classifyVector(x, weights):\n",
    "    prob = sigmoid(np.sum(x * weights))\n",
    "    if prob > 0.5:\n",
    "        return 1.0\n",
    "    else:\n",
    "        return 0.0\n",
    "#该函数用于打开测试集和训练集，并对数据进行格式化处理    \n",
    "def colicTest():\n",
    "    frTrain = open(r'E:\\Program Files\\Machine Learning\\机器学习实战及配套代码\\machinelearninginaction\\Ch05\\horseColicTraining.txt')\n",
    "    frTest = open(r'E:\\Program Files\\Machine Learning\\机器学习实战及配套代码\\machinelearninginaction\\Ch05\\horseColicTest.txt')\n",
    "    #定义两个空数组，一个用来放数据集，一个用来放标签\n",
    "    trainingSet = []; trainingLabels = []\n",
    "    for line in frTrain.readlines():\n",
    "        currLine = line.strip().split('\\t')#以制表符分割开来\n",
    "        lineArr = []\n",
    "        for i in np.arange(21):#共21个特征\n",
    "            lineArr.append(float(currLine[i]))\n",
    "        trainingSet.append(lineArr)\n",
    "        trainingLabels.append(float(currLine[21]))#一个标签\n",
    "    #利用改进的随机梯度上升算法训练出最佳的回归系数 迭代500次\n",
    "    trainWeights = randgradAscent1(np.array(trainingSet), np.array(trainingLabels), 500)\n",
    "    #导入测试集并计算分类错误率\n",
    "    errorCount = 0; numTestVec = 0.0\n",
    "    for line in frTest.readlines():\n",
    "        numTestVec += 1.0\n",
    "        currLine = line.strip().split('\\t')\n",
    "        lineArr = []\n",
    "        for i in np.arange(21):\n",
    "            lineArr.append(float(currLine[i]))\n",
    "        if int(classifyVector(np.array(lineArr), trainWeights) != int(currLine[21])):\n",
    "            errorCount += 1#计算测试错的总和\n",
    "            \n",
    "    errorRate = (float(errorCount) / numTestVec)#错误率\n",
    "    print(\"the error rate of this test is: %f\" % errorRate )\n",
    "    return errorRate\n",
    "\n",
    "\n",
    "#调用colocTest()函数10次，并求结果的平均值\n",
    "def multiTest():\n",
    "    numTests = 10; errorSum = 0.0\n",
    "    for k in np.arange(numTests):\n",
    "        errorSum += colicTest()\n",
    "    print(\"after %d iterations the average error rate is: %f\" %(numTests, errorSum / float(numTests)))\n",
    "\n",
    "\n",
    "multiTest()\n"
   ]
  },
  {
   "cell_type": "code",
   "execution_count": 5,
   "metadata": {},
   "outputs": [
    {
     "name": "stdout",
     "output_type": "stream",
     "text": [
      "[[1.0, 2.0, 3.0], [2.0, 4.0, 6.0]]\n",
      "[[ 1.  2.  3.]\n",
      " [ 2.  4.  6.]]\n"
     ]
    }
   ],
   "source": [
    "import numpy as np\n",
    "x = []\n",
    "x.append([1.0,2.0,3.0])\n",
    "x.append([2.0,4.0,6.0])\n",
    "print(x)\n",
    "print(np.mat(x))"
   ]
  },
  {
   "cell_type": "code",
   "execution_count": 3,
   "metadata": {},
   "outputs": [
    {
     "name": "stdout",
     "output_type": "stream",
     "text": [
      "[[  1.00000000e+00  -1.76120000e-02   1.40530640e+01]\n",
      " [  1.00000000e+00  -1.39563400e+00   4.66254100e+00]\n",
      " [  1.00000000e+00  -7.52157000e-01   6.53862000e+00]\n",
      " [  1.00000000e+00  -1.32237100e+00   7.15285300e+00]\n",
      " [  1.00000000e+00   4.23363000e-01   1.10546770e+01]\n",
      " [  1.00000000e+00   4.06704000e-01   7.06733500e+00]\n",
      " [  1.00000000e+00   6.67394000e-01   1.27414520e+01]\n",
      " [  1.00000000e+00  -2.46015000e+00   6.86680500e+00]\n",
      " [  1.00000000e+00   5.69411000e-01   9.54875500e+00]\n",
      " [  1.00000000e+00  -2.66320000e-02   1.04277430e+01]\n",
      " [  1.00000000e+00   8.50433000e-01   6.92033400e+00]\n",
      " [  1.00000000e+00   1.34718300e+00   1.31755000e+01]\n",
      " [  1.00000000e+00   1.17681300e+00   3.16702000e+00]\n",
      " [  1.00000000e+00  -1.78187100e+00   9.09795300e+00]\n",
      " [  1.00000000e+00  -5.66606000e-01   5.74900300e+00]\n",
      " [  1.00000000e+00   9.31635000e-01   1.58950500e+00]\n",
      " [  1.00000000e+00  -2.42050000e-02   6.15182300e+00]\n",
      " [  1.00000000e+00  -3.64530000e-02   2.69098800e+00]\n",
      " [  1.00000000e+00  -1.96949000e-01   4.44165000e-01]\n",
      " [  1.00000000e+00   1.01445900e+00   5.75439900e+00]\n",
      " [  1.00000000e+00   1.98529800e+00   3.23061900e+00]\n",
      " [  1.00000000e+00  -1.69345300e+00  -5.57540000e-01]\n",
      " [  1.00000000e+00  -5.76525000e-01   1.17789220e+01]\n",
      " [  1.00000000e+00  -3.46811000e-01  -1.67873000e+00]\n",
      " [  1.00000000e+00  -2.12448400e+00   2.67247100e+00]\n",
      " [  1.00000000e+00   1.21791600e+00   9.59701500e+00]\n",
      " [  1.00000000e+00  -7.33928000e-01   9.09868700e+00]\n",
      " [  1.00000000e+00  -3.64200100e+00  -1.61808700e+00]\n",
      " [  1.00000000e+00   3.15985000e-01   3.52395300e+00]\n",
      " [  1.00000000e+00   1.41661400e+00   9.61923200e+00]\n",
      " [  1.00000000e+00  -3.86323000e-01   3.98928600e+00]\n",
      " [  1.00000000e+00   5.56921000e-01   8.29498400e+00]\n",
      " [  1.00000000e+00   1.22486300e+00   1.15873600e+01]\n",
      " [  1.00000000e+00  -1.34780300e+00  -2.40605100e+00]\n",
      " [  1.00000000e+00   1.19660400e+00   4.95185100e+00]\n",
      " [  1.00000000e+00   2.75221000e-01   9.54364700e+00]\n",
      " [  1.00000000e+00   4.70575000e-01   9.33248800e+00]\n",
      " [  1.00000000e+00  -1.88956700e+00   9.54266200e+00]\n",
      " [  1.00000000e+00  -1.52789300e+00   1.21505790e+01]\n",
      " [  1.00000000e+00  -1.18524700e+00   1.13093180e+01]\n",
      " [  1.00000000e+00  -4.45678000e-01   3.29730300e+00]\n",
      " [  1.00000000e+00   1.04222200e+00   6.10515500e+00]\n",
      " [  1.00000000e+00  -6.18787000e-01   1.03209860e+01]\n",
      " [  1.00000000e+00   1.15208300e+00   5.48467000e-01]\n",
      " [  1.00000000e+00   8.28534000e-01   2.67604500e+00]\n",
      " [  1.00000000e+00  -1.23772800e+00   1.05490330e+01]\n",
      " [  1.00000000e+00  -6.83565000e-01  -2.16612500e+00]\n",
      " [  1.00000000e+00   2.29456000e-01   5.92193800e+00]\n",
      " [  1.00000000e+00  -9.59885000e-01   1.15553360e+01]\n",
      " [  1.00000000e+00   4.92911000e-01   1.09933240e+01]\n",
      " [  1.00000000e+00   1.84992000e-01   8.72148800e+00]\n",
      " [  1.00000000e+00  -3.55715000e-01   1.03259760e+01]\n",
      " [  1.00000000e+00  -3.97822000e-01   8.05839700e+00]\n",
      " [  1.00000000e+00   8.24839000e-01   1.37303430e+01]\n",
      " [  1.00000000e+00   1.50727800e+00   5.02786600e+00]\n",
      " [  1.00000000e+00   9.96710000e-02   6.83583900e+00]\n",
      " [  1.00000000e+00  -3.44008000e-01   1.07174850e+01]\n",
      " [  1.00000000e+00   1.78592800e+00   7.71864500e+00]\n",
      " [  1.00000000e+00  -9.18801000e-01   1.15602170e+01]\n",
      " [  1.00000000e+00  -3.64009000e-01   4.74730000e+00]\n",
      " [  1.00000000e+00  -8.41722000e-01   4.11908300e+00]\n",
      " [  1.00000000e+00   4.90426000e-01   1.96053900e+00]\n",
      " [  1.00000000e+00  -7.19400000e-03   9.07579200e+00]\n",
      " [  1.00000000e+00   3.56107000e-01   1.24478630e+01]\n",
      " [  1.00000000e+00   3.42578000e-01   1.22811620e+01]\n",
      " [  1.00000000e+00  -8.10823000e-01  -1.46601800e+00]\n",
      " [  1.00000000e+00   2.53077700e+00   6.47680100e+00]\n",
      " [  1.00000000e+00   1.29668300e+00   1.16075590e+01]\n",
      " [  1.00000000e+00   4.75487000e-01   1.20400350e+01]\n",
      " [  1.00000000e+00  -7.83277000e-01   1.10097250e+01]\n",
      " [  1.00000000e+00   7.47980000e-02   1.10236500e+01]\n",
      " [  1.00000000e+00  -1.33747200e+00   4.68339000e-01]\n",
      " [  1.00000000e+00  -1.02781000e-01   1.37636510e+01]\n",
      " [  1.00000000e+00  -1.47324000e-01   2.87484600e+00]\n",
      " [  1.00000000e+00   5.18389000e-01   9.88703500e+00]\n",
      " [  1.00000000e+00   1.01539900e+00   7.57188200e+00]\n",
      " [  1.00000000e+00  -1.65808600e+00  -2.72550000e-02]\n",
      " [  1.00000000e+00   1.31994400e+00   2.17122800e+00]\n",
      " [  1.00000000e+00   2.05621600e+00   5.01998100e+00]\n",
      " [  1.00000000e+00  -8.51633000e-01   4.37569100e+00]\n",
      " [  1.00000000e+00  -1.51004700e+00   6.06199200e+00]\n",
      " [  1.00000000e+00  -1.07663700e+00  -3.18188800e+00]\n",
      " [  1.00000000e+00   1.82109600e+00   1.02839900e+01]\n",
      " [  1.00000000e+00   3.01015000e+00   8.40176600e+00]\n",
      " [  1.00000000e+00  -1.09945800e+00   1.68827400e+00]\n",
      " [  1.00000000e+00  -8.34872000e-01  -1.73386900e+00]\n",
      " [  1.00000000e+00  -8.46637000e-01   3.84907500e+00]\n",
      " [  1.00000000e+00   1.40010200e+00   1.26287810e+01]\n",
      " [  1.00000000e+00   1.75284200e+00   5.46816600e+00]\n",
      " [  1.00000000e+00   7.85570000e-02   5.97360000e-02]\n",
      " [  1.00000000e+00   8.93920000e-02  -7.15300000e-01]\n",
      " [  1.00000000e+00   1.82566200e+00   1.26938080e+01]\n",
      " [  1.00000000e+00   1.97445000e-01   9.74463800e+00]\n",
      " [  1.00000000e+00   1.26117000e-01   9.22311000e-01]\n",
      " [  1.00000000e+00  -6.79797000e-01   1.22053000e+00]\n",
      " [  1.00000000e+00   6.77983000e-01   2.55666600e+00]\n",
      " [  1.00000000e+00   7.61349000e-01   1.06938620e+01]\n",
      " [  1.00000000e+00  -2.16879100e+00   1.43632000e-01]\n",
      " [  1.00000000e+00   1.38861000e+00   9.34199700e+00]\n",
      " [  1.00000000e+00   3.17029000e-01   1.47390250e+01]]\n"
     ]
    }
   ],
   "source": [
    "import numpy as np\n",
    "x,y = loadDataSet()\n",
    "xarr = np.array(x)\n",
    "print(xarr)"
   ]
  },
  {
   "cell_type": "code",
   "execution_count": null,
   "metadata": {
    "collapsed": true
   },
   "outputs": [],
   "source": []
  }
 ],
 "metadata": {
  "kernelspec": {
   "display_name": "Python 3",
   "language": "python",
   "name": "python3"
  },
  "language_info": {
   "codemirror_mode": {
    "name": "ipython",
    "version": 3
   },
   "file_extension": ".py",
   "mimetype": "text/x-python",
   "name": "python",
   "nbconvert_exporter": "python",
   "pygments_lexer": "ipython3",
   "version": "3.6.3"
  }
 },
 "nbformat": 4,
 "nbformat_minor": 2
}
